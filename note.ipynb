{
 "cells": [
  {
   "cell_type": "markdown",
   "metadata": {},
   "source": [
    "# https://realpython.com/docker-continuous-integration/\n",
    "\n",
    "In this tutorial, you’ll:\n",
    "\n",
    "- Run a Redis server locally in a Docker container\n",
    "- Dockerize a Python web application written in Flask\n",
    "- Build Docker images and push them to the Docker Hub registry\n",
    "- Orchestrate multi-container applications with Docker Compose\n",
    "- Replicate a production-like infrastructure anywhere\n",
    "- Define a continuous integration workflow using GitHub Actions"
   ]
  },
  {
   "cell_type": "code",
   "execution_count": null,
   "metadata": {},
   "outputs": [],
   "source": [
    "!sudo docker run -d --name redis-server redis\n",
    "!sudo docker network create page-tratracker-\n",
    "cker-network\n",
    "\n",
    "!docker network create page-tracker-network\n",
    "!docker network connect page-tracker-network redis-server\n",
    "!docker run --rm -it \\\n",
    "             --name redis-client \\\n",
    "             --network page-tracker-network \\\n",
    "             redis redis-cli -h redis-server"
   ]
  },
  {
   "cell_type": "code",
   "execution_count": null,
   "metadata": {},
   "outputs": [],
   "source": [
    "!docker stop redis-server\n",
    "!docker rm redis-server\n",
    "!docker run -d --name redis-server -p 6379:6379 redis\n",
    "!telnet localhost 6379\n",
    "!docker inspect redis-server"
   ]
  },
  {
   "cell_type": "code",
   "execution_count": 4,
   "metadata": {},
   "outputs": [
    {
     "data": {
      "text/plain": [
       "4"
      ]
     },
     "execution_count": 4,
     "metadata": {},
     "output_type": "execute_result"
    }
   ],
   "source": [
    "from redis import Redis\n",
    "\n",
    "redis = Redis()\n",
    "redis.incr('page_views')\n",
    "redis.incr('page_views')"
   ]
  },
  {
   "cell_type": "code",
   "execution_count": 8,
   "metadata": {},
   "outputs": [
    {
     "data": {
      "text/plain": [
       "8"
      ]
     },
     "execution_count": 8,
     "metadata": {},
     "output_type": "execute_result"
    }
   ],
   "source": [
    "redis = Redis(host=\"127.0.0.1\", port=6379)\n",
    "redis.incr(\"page_views\")\n",
    "redis = Redis.from_url(\"redis://localhost:6379/\")\n",
    "redis.incr(\"page_views\")"
   ]
  },
  {
   "cell_type": "code",
   "execution_count": 11,
   "metadata": {},
   "outputs": [
    {
     "name": "stdout",
     "output_type": "stream",
     "text": [
      " * Serving Flask app 'src.page_tracker.app'\n",
      " * Debug mode: off\n",
      "\u001b[31m\u001b[1mWARNING: This is a development server. Do not use it in a production deployment. Use a production WSGI server instead.\u001b[0m\n",
      " * Running on http://127.0.0.1:5000\n",
      "\u001b[33mPress CTRL+C to quit\u001b[0m\n",
      "127.0.0.1 - - [01/Sep/2024 13:48:23] \"GET / HTTP/1.1\" 200 -\n",
      "127.0.0.1 - - [01/Sep/2024 13:48:23] \"\u001b[33mGET /favicon.ico HTTP/1.1\u001b[0m\" 404 -\n",
      "^C\n"
     ]
    }
   ],
   "source": [
    "!flask --app src.page_tracker.app run"
   ]
  },
  {
   "cell_type": "code",
   "execution_count": 12,
   "metadata": {},
   "outputs": [
    {
     "name": "stdout",
     "output_type": "stream",
     "text": [
      " * Serving Flask app 'src.page_tracker.app'\n",
      " * Debug mode: on\n",
      "\u001b[31m\u001b[1mWARNING: This is a development server. Do not use it in a production deployment. Use a production WSGI server instead.\u001b[0m\n",
      " * Running on all addresses (0.0.0.0)\n",
      " * Running on http://127.0.0.1:8080\n",
      " * Running on http://192.168.12.54:8080\n",
      "\u001b[33mPress CTRL+C to quit\u001b[0m\n",
      " * Restarting with stat\n",
      " * Debugger is active!\n",
      " * Debugger PIN: 263-545-886\n",
      "127.0.0.1 - - [01/Sep/2024 13:49:42] \"GET / HTTP/1.1\" 200 -\n",
      "127.0.0.1 - - [01/Sep/2024 13:49:42] \"\u001b[33mGET /favicon.ico HTTP/1.1\u001b[0m\" 404 -\n",
      "192.168.12.54 - - [01/Sep/2024 13:49:44] \"GET / HTTP/1.1\" 200 -\n",
      "192.168.12.54 - - [01/Sep/2024 13:49:44] \"\u001b[33mGET /favicon.ico HTTP/1.1\u001b[0m\" 404 -\n",
      "192.168.12.173 - - [01/Sep/2024 13:50:13] \"GET / HTTP/1.1\" 200 -\n",
      "192.168.12.173 - - [01/Sep/2024 13:50:13] \"\u001b[33mGET /favicon.ico HTTP/1.1\u001b[0m\" 404 -\n",
      "192.168.12.173 - - [01/Sep/2024 13:50:16] \"GET / HTTP/1.1\" 200 -\n",
      "^C\n"
     ]
    }
   ],
   "source": [
    "# available to everything on the same network\n",
    "!flask --app src.page_tracker.app run --host=0.0.0.0 \\\n",
    "                                        --port=8080 \\\n",
    "                                        --debug"
   ]
  },
  {
   "cell_type": "markdown",
   "metadata": {},
   "source": [
    "## Perform Static Code Analysis and Security Scanning"
   ]
  },
  {
   "cell_type": "code",
   "execution_count": null,
   "metadata": {},
   "outputs": [],
   "source": [
    "!python -m black src/ --check\n",
    "!python -m black src/\n",
    "!python -m isort src/ --check\n",
    "!python -m isort src/\n",
    "!python -m flake8 src/\n",
    "!python -m pylint src/\n",
    "# !python -m pylint src/ --exit-zero\n",
    "!python -m bandit -r src/"
   ]
  },
  {
   "cell_type": "markdown",
   "metadata": {},
   "source": [
    "## Generate requirements.txt"
   ]
  },
  {
   "cell_type": "code",
   "execution_count": null,
   "metadata": {},
   "outputs": [],
   "source": [
    "!poetry export -f requirements.txt --dev --without-hashes --output requirements-dev.txt\n",
    "!poetry export -f requirements.txt --without-hashes --output requirements.txt"
   ]
  },
  {
   "cell_type": "markdown",
   "metadata": {},
   "source": [
    "## Docker Images"
   ]
  },
  {
   "cell_type": "code",
   "execution_count": null,
   "metadata": {},
   "outputs": [],
   "source": [
    "!docker build -t page-tracker .\n",
    "!docker build -f Dockerfile.dev -t page-tracker:dev .\n",
    "!docker build -f Dockerfile -t page-tracker:prod ."
   ]
  },
  {
   "cell_type": "markdown",
   "metadata": {},
   "source": [
    "## Git docker images"
   ]
  },
  {
   "cell_type": "code",
   "execution_count": null,
   "metadata": {},
   "outputs": [],
   "source": [
    "!git init\n",
    "!curl -sL https://www.gitignore.io/api/python,pycharm+all > .gitignore\n",
    "!git add *\n",
    "!git commit -m 'initial commit'\n",
    "!git rev-parse HEAD\n",
    "!docker build -t page-tracker:$(git rev-parse --short HEAD) .\n",
    "!docker push pietrotanure/page-tracker:$(git rev-parse --short HEAD)"
   ]
  },
  {
   "cell_type": "markdown",
   "metadata": {},
   "source": [
    "## Docker run"
   ]
  },
  {
   "cell_type": "code",
   "execution_count": null,
   "metadata": {},
   "outputs": [],
   "source": [
    "!docker run -p 80:5000 --name web-service page-tracker:latest"
   ]
  },
  {
   "cell_type": "code",
   "execution_count": null,
   "metadata": {},
   "outputs": [],
   "source": [
    "!curl http://localhost"
   ]
  },
  {
   "cell_type": "code",
   "execution_count": null,
   "metadata": {},
   "outputs": [],
   "source": [
    "# create container named redis-service from image redis:latest in \n",
    "# detached mode (-d) with volume mounted inside /data folder in the container, network\n",
    "!docker run -d \\\n",
    "             -v redis-volume:/data \\\n",
    "             --network page-tracker-network \\\n",
    "             --name redis-service \\\n",
    "             redis:latest"
   ]
  },
  {
   "cell_type": "code",
   "execution_count": null,
   "metadata": {},
   "outputs": [],
   "source": [
    "#creaate container names web-service from image page-tracker:d4a80d2, with \n",
    "# env variable REDIS_URL, with network page-tracker-network, expose container port 5000 on port 80\n",
    "!docker run -d \\\n",
    "             -p 80:5000 \\\n",
    "             -e REDIS_URL=redis://redis-service:6379 \\\n",
    "             --network page-tracker-network \\\n",
    "             --name web-service \\\n",
    "             page-tracker:d4a80d2"
   ]
  },
  {
   "cell_type": "code",
   "execution_count": null,
   "metadata": {},
   "outputs": [],
   "source": [
    "!curl http://localhost\n",
    "!curl http://localhost\n",
    "!curl http://localhost"
   ]
  },
  {
   "cell_type": "markdown",
   "metadata": {},
   "source": [
    "## Orchestrate containers with Docker Compose"
   ]
  },
  {
   "cell_type": "code",
   "execution_count": null,
   "metadata": {},
   "outputs": [],
   "source": [
    "!docker stop -t 0 web-service redis-service\n",
    "!docker container rm web-service redis-service\n",
    "!docker network rm page-tracker-network\n",
    "!docker volume rm redis-volume"
   ]
  },
  {
   "cell_type": "code",
   "execution_count": null,
   "metadata": {},
   "outputs": [],
   "source": [
    "!docker compose up -d\n",
    "!docker compose ps"
   ]
  },
  {
   "cell_type": "markdown",
   "metadata": {},
   "source": [
    "Createion of new port 6379 that is forwarded to host machine"
   ]
  },
  {
   "cell_type": "code",
   "execution_count": null,
   "metadata": {},
   "outputs": [],
   "source": [
    "!docker compose build\n",
    "!docker compose up --build #build updated .yml file"
   ]
  },
  {
   "cell_type": "markdown",
   "metadata": {},
   "source": [
    "you can now run your end-to-end tests using pytest installed in a virtual environment on your development machine:"
   ]
  },
  {
   "cell_type": "code",
   "execution_count": null,
   "metadata": {},
   "outputs": [],
   "source": [
    "!python -m pytest web/test/e2e/ \\\n",
    "  --flask-url http://localhost \\\n",
    "  --redis-url redis://localhost:6379"
   ]
  },
  {
   "cell_type": "markdown",
   "metadata": {},
   "source": [
    "# Create container to run test end-to-end\n",
    "running the end-to-end test locally against publicly exposed services, you can run it from another container on the same network. You could craft such a container manually. However, recent versions of Docker Compose provide a more elegant solution, which lets you run subsets of services conditionally. You do this by assigning the desired services to custom profiles that you can activate on demand."
   ]
  },
  {
   "cell_type": "code",
   "execution_count": null,
   "metadata": {},
   "outputs": [],
   "source": [
    "!docker compose --profile testing up -d\n",
    "!docker compose ps -a\n",
    "!docker compose logs test-service"
   ]
  }
 ],
 "metadata": {
  "kernelspec": {
   "display_name": "Python 3",
   "language": "python",
   "name": "python3"
  },
  "language_info": {
   "codemirror_mode": {
    "name": "ipython",
    "version": 3
   },
   "file_extension": ".py",
   "mimetype": "text/x-python",
   "name": "python",
   "nbconvert_exporter": "python",
   "pygments_lexer": "ipython3",
   "version": "3.9.18"
  }
 },
 "nbformat": 4,
 "nbformat_minor": 2
}
